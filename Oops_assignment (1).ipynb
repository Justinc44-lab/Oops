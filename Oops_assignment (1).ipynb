{
  "nbformat": 4,
  "nbformat_minor": 0,
  "metadata": {
    "colab": {
      "provenance": []
    },
    "kernelspec": {
      "name": "python3",
      "display_name": "Python 3"
    },
    "language_info": {
      "name": "python"
    }
  },
  "cells": [
    {
      "cell_type": "markdown",
      "source": [
        "1. What is Object-Oriented Programming ?\n",
        ">>> Object-Oriented Programming (OOP) is a programming style where software is organized around **objects** (which contain data and functions). Key principles include:\n",
        "- Encapsulation: Bundling data and methods together.\n",
        "- Inheritance: Reusing code from other classes.\n",
        "- Polymorphism: Allowing objects to behave differently based on their type.\n",
        "- Abstraction: Hiding complex details and showing only essential features.\n",
        "OOP helps in building modular, reusable, and easier-to-maintain code.\n",
        "\n",
        "2. What is a class in OOP ?\n",
        ">>>\n",
        "In Object-Oriented Programming (OOP), a class is a blueprint or template for creating objects. It defines the attributes (data) and methods (functions) that the objects created from the class will have.\n",
        "Think of a class as a \"cookie cutter\" that shapes the object, while the object is the actual \"cookie\" created from it.\n",
        "\n",
        "3. What is an object in OOP ?\n",
        ">>> In Object-Oriented Programming (OOP), an object is an instance of a class. It is a real-world entity that has attributes (data) and methods (functions) defined by its class.\n",
        "For example, if you have a `Car` class, an object would be a specific car like a red 2024 Toyota. The object holds the actual values for attributes like `color` and `model` and can use the methods like `drive()` or `stop()` defined in the `Car` class.\n",
        "Objects represent individual instances of the broader template that the class provides.\n",
        "\n",
        "4. What is the difference between abstraction and encapsulation ?\n",
        ">>> Abstraction: Focuses on hiding the complexity and showing only the essential features of an object. It allows you to interact with an object without needing to understand its internal workings. For example, using a TV remote without knowing how the internal circuits work.\n",
        "Encapsulation: Involves bundling the data (attributes) and the methods (functions) that operate on the data into a single unit (class), and restricting access to some of the object's internal details. It protects the object’s state by making some data private and providing public methods to interact with it. For example, controlling access to a bank account balance via methods like deposit() and withdraw().\n",
        "\n",
        "5. What are dunder methods in Python ?\n",
        ">>> Dunder methods (short for \"double underscore methods\") in Python are special methods that have double underscores before and after their name, like __init__, __str__, and __add__. These methods allow you to customize the behavior of objects in certain situations, like when performing operations or interacting with built-in functions.\n",
        "\n",
        "6. Explain the concept of inheritance in OOP.\n",
        ">>> **Inheritance** in OOP allows a child class to reuse code from a parent class. The child class inherits the parent’s properties and methods, and can also add or modify its own features. It promotes code reuse and reduces redundancy.\n",
        "\n",
        "7. What is polymorphism in OOP ?\n",
        ">>> **Polymorphism** in OOP allows different classes to use the same method name, but with **different behaviors**. It means \"many forms\" — a single method can behave differently depending on the object that calls it.\n",
        "For example, a `Dog` class and a `Cat` class can both have a `make_sound()` method. When called, `Dog` might print \"Bark\" and `Cat` might print \"Meow\". Despite using the same method name, the behavior varies based on the object.\n",
        "In short, polymorphism enables one method to work in multiple ways based on the object type.\n",
        "\n",
        "8.  How is encapsulation achieved in Python ?\n",
        ">>> In Python, **encapsulation** is achieved by **restricting access** to an object's internal data and methods, and controlling how they can be accessed or modified. This is done using **access modifiers**:\n",
        " a. **Public members**: Accessible from outside the class (no underscores).\n",
        "   - Example: `self.name`\n",
        " b. **Protected members**: Indicated by a single underscore (`_`). It's a convention to suggest that these should not be accessed directly outside the class.\n",
        "   - Example: `self._age`\n",
        " c. **Private members**: Indicated by double underscores (`__`). This makes the attribute or method **name-mangled** and harder to access directly from outside the class.\n",
        "   - Example: `self.__balance`\n",
        "Encapsulation in Python helps keep data safe and ensures that it can only be changed through well-defined methods.\n",
        "\n",
        "9. What is a constructor in Python ?\n",
        ">>> In Python, a **constructor** is a special method called `__init__()` that is automatically called when a new object of a class is created. It is used to initialize the object's attributes with specific values.\n",
        "For example:\n",
        "class Person:\n",
        "    def __init__(self, name, age):\n",
        "        self.name = name\n",
        "        self.age = age\n",
        "Here, `__init__()` initializes the `name` and `age` attributes when a `Person` object is created.\n",
        "In short, the constructor sets up an object by initializing its properties when it is created.\n",
        "\n",
        "10. What are class and static methods in Python ?\n",
        ">>> In Python:\n",
        "  a. **Class methods**:\n",
        "   - Defined using the `@classmethod` decorator.\n",
        "   - They take `cls` (the class itself) as the first parameter, not `self`.\n",
        "   - Class methods can be called on the class itself, not just an instance.\n",
        "   - They are used to operate on the class itself or to modify class-level attributes.\n",
        "   Example:\n",
        "   class MyClass:\n",
        "       @classmethod\n",
        "       def class_method(cls):\n",
        "           print(\"This is a class method.\")\n",
        "  b. **Static methods**:\n",
        "   - Defined using the `@staticmethod` decorator.\n",
        "   - They don’t take `self` or `cls` as the first parameter.\n",
        "   - Static methods are just like regular functions but belong to the class's namespace.\n",
        "   - They don’t operate on instance or class-level data.\n",
        "   Example:\n",
        "   class MyClass:\n",
        "       @staticmethod\n",
        "       def static_method():\n",
        "           print(\"This is a static method.\")\n",
        "In short:\n",
        "- **Class methods** work with the class itself, and **static methods** don’t interact with the instance or class. They are independent methods within the class.\n",
        "\n",
        "11.  What is method overloading in Python ?\n",
        ">>> In Python, **method overloading** refers to the ability to define multiple methods with the same name but with **different parameters**. However, Python does not support traditional method overloading like other languages (e.g., Java or C++). Instead, you can achieve similar functionality by using default arguments or variable-length arguments (`*args`, `**kwargs`).\n",
        "For example:\n",
        "class Example:\n",
        "    def greet(self, name=\"Guest\"):\n",
        "        print(f\"Hello, {name}!\")\n",
        "In this case, you can call `greet()` with or without a name, effectively overloading the method behavior based on the number of arguments.\n",
        "In short, Python handles method overloading by allowing flexible argument handling in a single method, rather than defining multiple methods with the same name.\n",
        "\n",
        "12. What is method overriding in OOP ?\n",
        ">>> **Method overriding** in OOP occurs when a **child class** provides its own implementation of a method that is already defined in its **parent class**. The child class method **overrides** the parent class method, allowing the child class to customize or replace the behavior of the inherited method.\n",
        "For example:\n",
        "class Animal:\n",
        "    def sound(self):\n",
        "        print(\"Some sound\")\n",
        "class Dog(Animal):\n",
        "    def sound(self):\n",
        "        print(\"Bark\")\n",
        "Here, the `Dog` class overrides the `sound()` method of the `Animal` class. When `sound()` is called on a `Dog` object, it prints \"Bark\", not \"Some sound\".\n",
        "In short, method overriding allows a child class to provide a specific implementation of a method inherited from a parent class.\n",
        "\n",
        "13. What is a property decorator in Python ?\n",
        ">>> The **property decorator** in Python allows you to define methods that act like attributes. It provides a way to add custom logic for getting, setting, and deleting an attribute, without directly exposing the underlying implementation.\n",
        "Example:\n",
        "class Circle:\n",
        "    @property\n",
        "    def radius(self):\n",
        "        return self._radius\n",
        "In short, it lets you control how attributes are accessed or modified while keeping the syntax simple.\n",
        "\n",
        "14. Why is polymorphism important in OOP ?\n",
        ">>> **Polymorphism** is important in OOP because it allows different objects to be treated as instances of the same class through a common interface, even if they have different implementations. This promotes **code flexibility** and **reuse** by enabling the same method or function to work with different types of objects.\n",
        "For example, a function can call the same method `make_sound()` on both a `Dog` and a `Cat` object, even though their behaviors differ. This reduces code duplication and enhances maintainability.\n",
        "In short, polymorphism simplifies code and allows objects of different types to be handled uniformly.\n",
        "\n",
        "15.  What is an abstract class in Python ?\n",
        ">>> An **abstract class** in Python is a class that cannot be instantiated directly. It serves as a blueprint for other classes and may contain **abstract methods**, which are methods without implementation that must be overridden in subclasses.\n",
        "Abstract classes are defined using the `abc` module, and the `ABC` class is used as a base class.\n",
        "Example:\n",
        "from abc import ABC, abstractmethod\n",
        "class Animal(ABC):\n",
        "    @abstractmethod\n",
        "    def make_sound(self):\n",
        "        pass\n",
        "class Dog(Animal):\n",
        "    def make_sound(self):\n",
        "        print(\"Bark\")\n",
        "In short, an abstract class provides a base for other classes to implement specific behaviors, ensuring that certain methods are always defined in subclasses.\n",
        "\n",
        "16. What are the advantages of OOP ?\n",
        ">>> The advantages of **Object-Oriented Programming (OOP)** are:\n",
        "\n",
        " a. **Modularity**: Code is organized into objects, making it easier to manage and understand.\n",
        " b. **Reusability**: Classes and objects can be reused across different programs or parts of a program, reducing redundancy.\n",
        " c. **Maintainability**: OOP makes code easier to maintain and update due to its modular structure and clear organization.\n",
        " d. **Scalability**: OOP allows for easy addition of new features or classes without affecting existing code.\n",
        " e. **Abstraction**: OOP hides complexity by exposing only necessary details, making code simpler to use and interact with.\n",
        "In short, OOP improves code organization, reusability, maintainability, and scalability.\n",
        "\n",
        "17.  What is the difference between a class variable and an instance variable ?\n",
        ">>> The difference between a **class variable** and an **instance variable** is:\n",
        "- **Class Variable**:\n",
        "  - Shared by all instances of the class.\n",
        "  - Defined within the class but outside any method.\n",
        "  - Changes to a class variable affect all instances of the class.\n",
        "- **Instance Variable**:\n",
        "  - Unique to each instance (object) of the class.\n",
        "  - Defined within methods (usually in the `__init__()` constructor).\n",
        "  - Changes to an instance variable affect only that specific instance.\n",
        "**Example:**\n",
        "class MyClass:\n",
        "    class_variable = 0  # class variable\n",
        "    def __init__(self, value):\n",
        "    self.instance_variable = value  # instance variable\n",
        "\n",
        "In short, class variables are shared across all instances, while instance variables are specific to each object.\n",
        "\n",
        "18. What is multiple inheritance in Python.\n",
        ">>> **Multiple inheritance** in Python occurs when a class inherits from more than one parent class. This allows a class to inherit attributes and methods from multiple classes, enabling more flexible and reusable code.\n",
        "Example:\n",
        "class A:\n",
        "    def method_A(self):\n",
        "        print(\"Method A\")\n",
        "class B:\n",
        "    def method_B(self):\n",
        "        print(\"Method B\")\n",
        "class C(A, B):\n",
        "    pass\n",
        "obj = C()\n",
        "obj.method_A()  # Inherited from class A\n",
        "obj.method_B()  # Inherited from class B\n",
        "In short, multiple inheritance allows a class to inherit features from multiple parent classes, promoting code reuse.\n",
        "\n",
        "19.  Explain the purpose of ‘’__str__’ and ‘__repr__’ ‘ methods in Python.\n",
        ">>> - **`__str__`**: Provides a **user-friendly** string representation of an object, used by `print()` and `str()`.\n",
        "\n",
        "- **`__repr__`**: Provides a **formal** string representation, useful for debugging, and ideally should be able to recreate the object with `eval()`.\n",
        "In short, `__str__` is for users, and `__repr__` is for developers.\n",
        "\n",
        "20. What is the significance of the ‘super()’ function in Python ?\n",
        ">>> The `super()` function in Python is used to call methods from a **parent class** in a subclass. It allows you to access and invoke the parent class’s methods or attributes, helping with method overriding and avoiding explicit references to the parent class.\n",
        "\n",
        "Example:\n",
        "class Parent:\n",
        "    def greet(self):\n",
        "        print(\"Hello from Parent\")\n",
        "class Child(Parent):\n",
        "    def greet(self):\n",
        "        super().greet()  # Calls Parent's greet method\n",
        "        print(\"Hello from Child\")\n",
        "obj = Child()\n",
        "obj.greet()\n",
        "In short, `super()` helps call methods from the parent class, supporting method overriding and promoting code reuse.\n",
        "\n",
        "21. What is the significance of the __del__ method in Python ?\n",
        ">>> The **`__del__`** method in Python is a special method called a **destructor**. It is automatically invoked when an object is about to be destroyed, typically when it is no longer in use or goes out of scope. The `__del__` method is used to clean up resources, such as closing files or network connections, before the object is deleted.\n",
        "Example:\n",
        "class MyClass:\n",
        "    def __del__(self):\n",
        "        print(\"Object is being destroyed.\")\n",
        "obj = MyClass()\n",
        "del obj  # This triggers __del__()\n",
        "\n",
        "In short, `__del__` helps manage resource cleanup before an object is deleted. However, its use is rare, and Python's garbage collector typically handles memory management.\n",
        "\n",
        "22. What is the difference between @staticmethod and @classmethod in Python?\n",
        ">>> The difference between `@staticmethod` and `@classmethod` in Python is:\n",
        "\n",
        "- **`@staticmethod`**:\n",
        "  - Does not take `self` or `cls` as the first parameter.\n",
        "  - It behaves like a regular function but is part of the class's namespace.\n",
        "  - It cannot access or modify class or instance-specific data.\n",
        "  Example:\n",
        "  class MyClass:\n",
        "      @staticmethod\n",
        "      def static_method():\n",
        "          print(\"This is a static method.\")\n",
        "- **`@classmethod`**:\n",
        "  - Takes `cls` (the class itself) as the first parameter.\n",
        "  - It can modify class-level data and access class-specific properties or methods.\n",
        "  Example:\n",
        "  class MyClass:\n",
        "      @classmethod\n",
        "      def class_method(cls):\n",
        "          print(f\"This is a class method of {cls}.\")\n",
        "In short:\n",
        "- `@staticmethod` does not access class or instance data.\n",
        "- `@classmethod` accesses and modifies class-level data.\n",
        "\n",
        "23.  How does polymorphism work in Python with inheritance ?\n",
        ">>> In Python, **polymorphism** works with **inheritance** by allowing different classes to define the same method name, but with different behaviors. When a method is called on an object, Python uses the method from the object's class (the most specific class) even if the method is defined in a parent class.\n",
        "Example:\n",
        "class Animal:\n",
        "    def speak(self):\n",
        "        print(\"Animal makes a sound\")\n",
        "class Dog(Animal):\n",
        "    def speak(self):\n",
        "        print(\"Dog barks\")\n",
        "class Cat(Animal):\n",
        "    def speak(self):\n",
        "        print(\"Cat meows\")\n",
        "# Polymorphism in action\n",
        "animals = [Dog(), Cat()]\n",
        "for animal in animals:\n",
        "    animal.speak()  # Calls the appropriate method for each object\n",
        "In short, polymorphism in Python allows methods in different classes to have the same name but behave differently based on the object's type, enabling flexible and dynamic behavior.\n",
        "\n",
        "24. What is method chaining in Python OOP ?\n",
        ">>> **Method chaining** in Python OOP is a technique where multiple methods are called on the same object in a single line, one after the other. Each method returns the object itself (usually `self`), allowing the next method to be called on the same object.\n",
        "Example:\n",
        "class Calculator:\n",
        "    def __init__(self):\n",
        "        self.result = 0\n",
        "\n",
        "    def add(self, value):\n",
        "        self.result += value\n",
        "        return self\n",
        "\n",
        "    def subtract(self, value):\n",
        "        self.result -= value\n",
        "        return self\n",
        "\n",
        "    def multiply(self, value):\n",
        "        self.result *= value\n",
        "        return self\n",
        "\n",
        "    def get_result(self):\n",
        "        return self.result\n",
        "\n",
        "# Method chaining in action\n",
        "calc = Calculator()\n",
        "result = calc.add(5).subtract(2).multiply(3).get_result()\n",
        "print(result)  # Output: 9\n",
        "In short, method chaining allows calling multiple methods on the same object in a concise way, improving readability and code compactness.\n",
        "\n",
        "25. What is the purpose of the __call__ method in Python?\n",
        ">>> The **`__call__`** method in Python allows an object to be **called like a function**. When this method is defined in a class, instances of that class can be invoked using parentheses, just like functions. It enables objects to behave as callable functions.\n",
        "\n",
        "Example:\n",
        "class MyClass:\n",
        "    def __call__(self, x):\n",
        "        print(f\"Called with argument: {x}\")\n",
        "\n",
        "obj = MyClass()\n",
        "obj(10)  # This calls the __call__ method and prints \"Called with argument: 10\"\n",
        "In short, the `__call__` method allows an object to be invoked as if it were a function, enabling flexible behavior.\n",
        "\n"
      ],
      "metadata": {
        "id": "yJd2f1HZz0Qg"
      }
    },
    {
      "cell_type": "code",
      "source": [
        "# Practical questions"
      ],
      "metadata": {
        "id": "4k--j9inJjIX"
      },
      "execution_count": null,
      "outputs": []
    },
    {
      "cell_type": "code",
      "source": [
        "#1  Create a parent class Animal with a method speak() that prints a generic message. Create a child class Dog\n",
        "#that overrides the speak() method to print \"Bark!\".\n",
        "\n",
        "class Animal:\n",
        "    def speak(self):\n",
        "        print(\"Generic animal sound\")\n",
        "\n",
        "class Dog(Animal):\n",
        "    def speak(self):\n",
        "        print(\"Bark!\")\n",
        "\n",
        "Dog = Dog()\n",
        "Dog.speak()"
      ],
      "metadata": {
        "id": "JI6qX23uJsOZ",
        "colab": {
          "base_uri": "https://localhost:8080/"
        },
        "outputId": "e0ee13ac-0c75-42e2-8109-c7b720cb506b"
      },
      "execution_count": 21,
      "outputs": [
        {
          "output_type": "stream",
          "name": "stdout",
          "text": [
            "Bark!\n"
          ]
        }
      ]
    },
    {
      "cell_type": "code",
      "source": [
        "#2  Write a program to create an abstract class Shape with a method area(). Derive classes Circle and Rectangle from it and implement the area() method in both\n",
        "from abc import ABC, abstractmethod\n",
        "import math\n",
        "\n",
        "# Abstract class Shape\n",
        "class Shape(ABC):\n",
        "    @abstractmethod\n",
        "    def area(self):\n",
        "        pass\n",
        "\n",
        "# Derived class Circle\n",
        "class Circle(Shape):\n",
        "    def __init__(self, radius):\n",
        "        self.radius = radius\n",
        "\n",
        "    def area(self):\n",
        "        return math.pi * self.radius * self.radius\n",
        "\n",
        "# Derived class Rectangle\n",
        "class Rectangle(Shape):\n",
        "    def __init__(self, width, height):\n",
        "        self.width = width\n",
        "        self.height = height\n",
        "\n",
        "    def area(self):\n",
        "        return self.width * self.height\n",
        "\n",
        "circle = Circle(5)\n",
        "rectangle = Rectangle(4, 6)\n",
        "\n",
        "print(f\"The area of the circle is: {circle.area()}\")  # Output: Area of circle\n",
        "print(f\"The area of the rectangle is: {rectangle.area()}\")  # Output: Area of rectangle\n",
        "\n"
      ],
      "metadata": {
        "colab": {
          "base_uri": "https://localhost:8080/"
        },
        "id": "0q1dtIAy8Pn8",
        "outputId": "02b78a25-4092-458f-add9-b5b0c01788b8"
      },
      "execution_count": 24,
      "outputs": [
        {
          "output_type": "stream",
          "name": "stdout",
          "text": [
            "The area of the circle is: 78.53981633974483\n",
            "The area of the rectangle is: 24\n"
          ]
        }
      ]
    },
    {
      "cell_type": "code",
      "source": [
        "#3 Implement a multi-level inheritance scenario where a class Vehicle has an attribute type. Derive a class Car and further derive a class ElectricCar that adds a battery attribute\n",
        "# Base class Vehicle\n",
        "class Vehicle:\n",
        "    def __init__(self, vehicle_type):\n",
        "        self.vehicle_type = vehicle_type\n",
        "\n",
        "    def display_type(self):\n",
        "        print(f\"This is a {self.vehicle_type}.\")\n",
        "\n",
        "# Derived class Car (inherits from Vehicle)\n",
        "class Car(Vehicle):\n",
        "    def __init__(self, vehicle_type, make, model):\n",
        "        # Call the constructor of the base class Vehicle\n",
        "        super().__init__(vehicle_type)\n",
        "        self.make = make\n",
        "        self.model = model\n",
        "\n",
        "    def display_car_info(self):\n",
        "        print(f\"This car is a {self.make} {self.model}.\")\n",
        "\n",
        "# Derived class ElectricCar (inherits from Car)\n",
        "class ElectricCar(Car):\n",
        "    def __init__(self, vehicle_type, make, model, battery_capacity):\n",
        "        # Call the constructor of the base class Car\n",
        "        super().__init__(vehicle_type, make, model)\n",
        "        self.battery_capacity = battery_capacity\n",
        "\n",
        "    def display_battery_info(self):\n",
        "        print(f\"This electric car has a {self.battery_capacity} kWh battery.\")\n",
        "\n",
        "# Example usage:\n",
        "vehicle = Vehicle(\"Vehicle\")\n",
        "vehicle.display_type()\n",
        "\n",
        "car = Car(\"Car\", \"Toyota\", \"Corolla\")\n",
        "car.display_type()  # Inherited from Vehicle\n",
        "car.display_car_info()\n",
        "\n",
        "electric_car = ElectricCar(\"Electric Car\", \"Tesla\", \"Model S\", 100)\n",
        "electric_car.display_type()  # Inherited from Vehicle\n",
        "electric_car.display_car_info()  # Inherited from Car\n",
        "electric_car.display_battery_info()\n",
        "\n"
      ],
      "metadata": {
        "colab": {
          "base_uri": "https://localhost:8080/"
        },
        "id": "qnsga0Kl8QJg",
        "outputId": "bd70c5a9-3c07-48d9-b055-745041771a5b"
      },
      "execution_count": 27,
      "outputs": [
        {
          "output_type": "stream",
          "name": "stdout",
          "text": [
            "This is a Vehicle.\n",
            "This is a Car.\n",
            "This car is a Toyota Corolla.\n",
            "This is a Electric Car.\n",
            "This car is a Tesla Model S.\n",
            "This electric car has a 100 kWh battery.\n"
          ]
        }
      ]
    },
    {
      "cell_type": "code",
      "source": [
        "#4 Implement a multi-level inheritance scenario where a class Vehicle has an attribute type. Derive a class Car and further derive a class ElectricCar that adds a battery attribute\n",
        "# Base class Vehicle\n",
        "class Vehicle:\n",
        "    def __init__(self, vehicle_type):\n",
        "        self.vehicle_type = vehicle_type\n",
        "\n",
        "    def display_type(self):\n",
        "        print(f\"This is a {self.vehicle_type}.\")\n",
        "\n",
        "# Derived class Car (inherits from Vehicle)\n",
        "class Car(Vehicle):\n",
        "    def __init__(self, vehicle_type, make, model):\n",
        "        # Call the constructor of the base class Vehicle\n",
        "        super().__init__(vehicle_type)\n",
        "        self.make = make\n",
        "        self.model = model\n",
        "\n",
        "    def display_car_info(self):\n",
        "        print(f\"This car is a {self.make} {self.model}.\")\n",
        "\n",
        "# Derived class ElectricCar (inherits from Car)\n",
        "class ElectricCar(Car):\n",
        "    def __init__(self, vehicle_type, make, model, battery_capacity):\n",
        "        # Call the constructor of the base class Car\n",
        "        super().__init__(vehicle_type, make, model)\n",
        "        self.battery_capacity = battery_capacity\n",
        "\n",
        "    def display_battery_info(self):\n",
        "        print(f\"This electric car has a {self.battery_capacity} kWh battery.\")\n",
        "\n",
        "# Example usage:\n",
        "vehicle = Vehicle(\"Vehicle\")\n",
        "vehicle.display_type()\n",
        "\n",
        "car = Car(\"Car\", \"Toyota\", \"Corolla\")\n",
        "car.display_type()  # Inherited from Vehicle\n",
        "car.display_car_info()\n",
        "\n",
        "electric_car = ElectricCar(\"Electric Car\", \"Tesla\", \"Model S\", 100)\n",
        "electric_car.display_type()  # Inherited from Vehicle\n",
        "electric_car.display_car_info()  # Inherited from Car\n",
        "electric_car.display_battery_info()\n",
        "\n"
      ],
      "metadata": {
        "colab": {
          "base_uri": "https://localhost:8080/"
        },
        "id": "pG2o7nnC8Qo6",
        "outputId": "f971f8fc-43dc-4286-964a-1c880ae2297f"
      },
      "execution_count": 28,
      "outputs": [
        {
          "output_type": "stream",
          "name": "stdout",
          "text": [
            "This is a Vehicle.\n",
            "This is a Car.\n",
            "This car is a Toyota Corolla.\n",
            "This is a Electric Car.\n",
            "This car is a Tesla Model S.\n",
            "This electric car has a 100 kWh battery.\n"
          ]
        }
      ]
    },
    {
      "cell_type": "code",
      "source": [
        "#5 Write a program to demonstrate encapsulation by creating a class BankAccount with private attributes balance and methods to deposit, withdraw, and check balance\n",
        "class BankAccount:\n",
        "    def __init__(self, initial_balance=0):\n",
        "        # Private attribute _balance (by convention)\n",
        "        self.__balance = initial_balance\n",
        "\n",
        "    def deposit(self, amount):\n",
        "        if amount > 0:\n",
        "            self.__balance += amount\n",
        "            print(f\"Deposited: {amount}. Current balance: {self.__balance}\")\n",
        "        else:\n",
        "            print(\"Deposit amount must be positive.\")\n",
        "\n",
        "    def withdraw(self, amount):\n",
        "        if amount > 0:\n",
        "            if amount <= self.__balance:\n",
        "                self.__balance -= amount\n",
        "                print(f\"Withdrew: {amount}. Current balance: {self.__balance}\")\n",
        "            else:\n",
        "                print(\"Insufficient funds for withdrawal.\")\n",
        "        else:\n",
        "            print(\"Withdrawal amount must be positive.\")\n",
        "\n",
        "    def check_balance(self):\n",
        "        print(f\"Current balance: {self.__balance}\")\n",
        "\n",
        "# Example usage:\n",
        "account = BankAccount(1000)\n",
        "\n",
        "# Checking balance\n",
        "account.check_balance()\n",
        "\n",
        "# Depositing money\n",
        "account.deposit(500)\n",
        "\n",
        "# Withdrawing money\n",
        "account.withdraw(200)\n",
        "\n",
        "# Attempting to withdraw more than the balance\n",
        "account.withdraw(1500)\n",
        "\n",
        "# Checking balance after transactions\n",
        "account.check_balance()\n",
        "\n",
        "\n"
      ],
      "metadata": {
        "colab": {
          "base_uri": "https://localhost:8080/"
        },
        "id": "shkwB6eN8RB8",
        "outputId": "68f665ff-2b73-4919-d12d-266e94a9b9d0"
      },
      "execution_count": 30,
      "outputs": [
        {
          "output_type": "stream",
          "name": "stdout",
          "text": [
            "Current balance: 1000\n",
            "Deposited: 500. Current balance: 1500\n",
            "Withdrew: 200. Current balance: 1300\n",
            "Insufficient funds for withdrawal.\n",
            "Current balance: 1300\n"
          ]
        }
      ]
    },
    {
      "cell_type": "code",
      "source": [
        "#6 Demonstrate runtime polymorphism using a method play() in a base class Instrument. Derive classes Guitar and Piano that implement their own version of play()\n",
        "class Instrument:\n",
        "    def play(self):\n",
        "        pass\n",
        "\n",
        "class Guitar(Instrument):\n",
        "    def play(self):\n",
        "        print(\"Playing a guitar sound\")\n",
        "\n",
        "class Piano(Instrument):\n",
        "    def play(self):\n",
        "        print(\"Playing a piano sound\")\n",
        "\n",
        "guitar = Guitar()\n",
        "piano = Piano()\n",
        "\n",
        "guitar.play()\n",
        "piano.play()"
      ],
      "metadata": {
        "colab": {
          "base_uri": "https://localhost:8080/"
        },
        "id": "N3MXsM9F8Rdx",
        "outputId": "c49d7819-024a-4231-ca15-8f4713ddb202"
      },
      "execution_count": 31,
      "outputs": [
        {
          "output_type": "stream",
          "name": "stdout",
          "text": [
            "Playing a guitar sound\n",
            "Playing a piano sound\n"
          ]
        }
      ]
    },
    {
      "cell_type": "code",
      "source": [
        "#7 Create a class MathOperations with a class method add_numbers() to add two numbers and a static method subtract_numbers() to subtract two numbers\n",
        "class MathOperations:\n",
        "    @classmethod\n",
        "    def add_numbers(cls, a, b):\n",
        "        return a + b\n",
        "\n",
        "    @staticmethod\n",
        "    def subtract_numbers(a, b):\n",
        "        return a - b\n",
        "\n",
        "math = MathOperations()\n",
        "result = math.add_numbers(5, 3)\n",
        "print(result)\n",
        "\n",
        "result = math.subtract_numbers(10, 4)\n",
        "print(result)"
      ],
      "metadata": {
        "colab": {
          "base_uri": "https://localhost:8080/"
        },
        "id": "ZlabmVqt8R7M",
        "outputId": "26cccdf9-5ffe-47ff-a7b5-59b856dd2419"
      },
      "execution_count": 33,
      "outputs": [
        {
          "output_type": "stream",
          "name": "stdout",
          "text": [
            "8\n",
            "6\n"
          ]
        }
      ]
    },
    {
      "cell_type": "code",
      "source": [
        "#8  Implement a class Person with a class method to count the total number of persons created\n",
        "class Person:\n",
        "    count = 0\n",
        "\n",
        "    def __init__(self, name):\n",
        "        self.name = name\n",
        "        Person.count += 1\n",
        "\n",
        "    @classmethod\n",
        "    def get_total_persons(cls):\n",
        "        return cls.count\n",
        "\n",
        "person1 = Person(\"Alice\")\n",
        "person2 = Person(\"Bob\")\n",
        "person3 = Person(\"Charlie\")\n",
        "\n",
        "total_persons = Person.get_total_persons()\n",
        "print(f\"Total persons created: {total_persons}\")"
      ],
      "metadata": {
        "colab": {
          "base_uri": "https://localhost:8080/"
        },
        "id": "nBxdNZXT8Saw",
        "outputId": "64b01351-2a90-4a1e-c1b8-949037a0f43f"
      },
      "execution_count": 34,
      "outputs": [
        {
          "output_type": "stream",
          "name": "stdout",
          "text": [
            "Total persons created: 3\n"
          ]
        }
      ]
    },
    {
      "cell_type": "code",
      "source": [
        "#9  Write a class Fraction with attributes numerator and denominator. Override the str method to display the fraction as \"numerator/denominator\"\n",
        "class Fraction:\n",
        "    def __init__(self, numerator, denominator):\n",
        "        # Initialize the numerator and denominator\n",
        "        self.numerator = numerator\n",
        "        self.denominator = denominator\n",
        "\n",
        "    def __str__(self):\n",
        "        # Override the __str__ method to display the fraction as \"numerator/denominator\"\n",
        "        return f\"{self.numerator}/{self.denominator}\"\n",
        "\n",
        "# Example usage:\n",
        "fraction1 = Fraction(3, 4)\n",
        "fraction2 = Fraction(5, 7)\n",
        "\n",
        "# Print the fractions using the overridden __str__ method\n",
        "print(fraction1)  # Output: 3/4\n",
        "print(fraction2)  # Output: 5/7\n"
      ],
      "metadata": {
        "colab": {
          "base_uri": "https://localhost:8080/"
        },
        "id": "8pgcNVCs8Tt6",
        "outputId": "9832b325-662e-4e9a-f008-2ec0dae2b8a9"
      },
      "execution_count": 36,
      "outputs": [
        {
          "output_type": "stream",
          "name": "stdout",
          "text": [
            "3/4\n",
            "5/7\n"
          ]
        }
      ]
    },
    {
      "cell_type": "code",
      "source": [
        "#10  Demonstrate operator overloading by creating a class Vector and overriding the add method to add two vectors\n",
        "class Vector:\n",
        "    def __init__(self, x, y):\n",
        "        # Initialize the vector with x and y components\n",
        "        self.x = x\n",
        "        self.y = y\n",
        "\n",
        "    def __add__(self, other):\n",
        "        # Overload the '+' operator to add two vectors\n",
        "        if isinstance(other, Vector):\n",
        "            return Vector(self.x + other.x, self.y + other.y)\n",
        "        else:\n",
        "            raise TypeError(\"Operand must be a Vector\")\n",
        "\n",
        "    def __str__(self):\n",
        "        # Override __str__ method to display the vector in the form (x, y)\n",
        "        return f\"({self.x}, {self.y})\"\n",
        "\n",
        "# Example usage:\n",
        "vector1 = Vector(3, 4)\n",
        "vector2 = Vector(1, 2)\n",
        "\n",
        "# Adding two vectors using overloaded '+' operator\n",
        "result = vector1 + vector2\n",
        "\n",
        "# Display the result\n",
        "print(\"Vector 1:\", vector1)\n",
        "print(\"Vector 2:\", vector2)\n",
        "print(\"Sum of vectors:\", result)\n"
      ],
      "metadata": {
        "colab": {
          "base_uri": "https://localhost:8080/"
        },
        "id": "KLzgw5XQGehh",
        "outputId": "664160b4-a3c2-42b7-a38f-9378f8c67d0d"
      },
      "execution_count": 37,
      "outputs": [
        {
          "output_type": "stream",
          "name": "stdout",
          "text": [
            "Vector 1: (3, 4)\n",
            "Vector 2: (1, 2)\n",
            "Sum of vectors: (4, 6)\n"
          ]
        }
      ]
    },
    {
      "cell_type": "code",
      "source": [
        "#11  Create a class Person with attributes name and age. Add a method greet() that prints \"Hello, my name is {name} and I am {age} years old.\"\n",
        "class Person:\n",
        "  def __init__(self,name,age):\n",
        "   self.name = name\n",
        "   self.age = age\n",
        "\n",
        "  def greet(self):\n",
        "    print(f\"Hello, my name is {self.name} and I am {self.age} years old.\")\n",
        "\n",
        "Per = Person(\"Justin\",23)\n",
        "Per.greet()"
      ],
      "metadata": {
        "colab": {
          "base_uri": "https://localhost:8080/"
        },
        "id": "GJMF2D4AH1v6",
        "outputId": "a013b921-42fb-47e2-9ebc-3ea338055179"
      },
      "execution_count": 44,
      "outputs": [
        {
          "output_type": "stream",
          "name": "stdout",
          "text": [
            "Hello, my name is Justin and I am 23 years old.\n"
          ]
        }
      ]
    },
    {
      "cell_type": "code",
      "source": [
        "#12  Implement a class Student with attributes name and grades. Create a method average_grade() to compute the average of the grades\n",
        "class Student:\n",
        "    def __init__(self, name, grades):\n",
        "        # Initialize the name and grades attributes\n",
        "        self.name = name\n",
        "        self.grades = grades\n",
        "\n",
        "    def average_grade(self):\n",
        "        # Compute the average of the grades\n",
        "        if len(self.grades) > 0:\n",
        "            return sum(self.grades) / len(self.grades)\n",
        "        else:\n",
        "            return 0  # Return 0 if there are no grades\n",
        "\n",
        "    def __str__(self):\n",
        "        # Return a string representation of the student's name and average grade\n",
        "        return f\"Student: {self.name}, Average Grade: {self.average_grade():.2f}\"\n",
        "\n",
        "# Example usage:\n",
        "student1 = Student(\"Alice\", [85, 90, 78, 92])\n",
        "student2 = Student(\"Bob\", [88, 76, 95, 84, 91])\n",
        "\n",
        "# Displaying information about the students\n",
        "print(student1)\n",
        "print(student2)\n"
      ],
      "metadata": {
        "colab": {
          "base_uri": "https://localhost:8080/"
        },
        "id": "0o_WPA458WQ6",
        "outputId": "b9fa60b3-4c30-46bc-9bda-671ad6661ccf"
      },
      "execution_count": 51,
      "outputs": [
        {
          "output_type": "stream",
          "name": "stdout",
          "text": [
            "Student: Alice, Average Grade: 86.25\n",
            "Student: Bob, Average Grade: 86.80\n"
          ]
        }
      ]
    },
    {
      "cell_type": "code",
      "source": [
        "#13 Create a class Rectangle with methods set_dimensions() to set the dimensions and area() to calculate the area\n",
        "class rectangle:\n",
        "  def set_dimensions(self,lenght,breadth):\n",
        "    self.length = lenght\n",
        "    self.breadth = breadth\n",
        "\n",
        "  def calculate_area(self):\n",
        "    return self.length * self.breadth\n",
        "\n",
        "rect = rectangle()\n",
        "rect.set_dimensions(10,5)\n",
        "print(rect.calculate_area())\n"
      ],
      "metadata": {
        "colab": {
          "base_uri": "https://localhost:8080/"
        },
        "id": "PB81lq138YOt",
        "outputId": "b828c8fc-fd52-4e2f-fef6-8a49250c2ff3"
      },
      "execution_count": 56,
      "outputs": [
        {
          "output_type": "stream",
          "name": "stdout",
          "text": [
            "50\n"
          ]
        }
      ]
    },
    {
      "cell_type": "code",
      "source": [
        "#14  Create a class Employee with a method calculate_salary() that computes the salary based on hours worked and hourly rate. Create a derived class Manager that adds a bonus to the salary\n",
        "class Employee:\n",
        "  def __init__(self,hours_worked,hourly_rate):\n",
        "    self.hours_worked = hours_worked\n",
        "    self.hourly_rate = hourly_rate\n",
        "\n",
        "  def calculate_salary(self):\n",
        "    return self.hours_worked * self.hourly_rate\n",
        "\n",
        "class manager(Employee):\n",
        "  def __init__(self,hours_worked,hourly_rate,bonus):\n",
        "    super().__init__(hours_worked,hourly_rate)\n",
        "    self.bonus = bonus\n",
        "\n",
        "  def calculate_salary(self):\n",
        "    base_salary = super().calculate_salary()\n",
        "    return base_salary + self.bonus\n",
        "\n",
        "\n",
        "emp = Employee(40,20)\n",
        "print(emp.calculate_salary())\n",
        "\n",
        "man = manager(40,20,1000)\n",
        "print(man.calculate_salary())"
      ],
      "metadata": {
        "colab": {
          "base_uri": "https://localhost:8080/"
        },
        "id": "dN4laKeh8YuI",
        "outputId": "22e1d96e-3f26-458c-b794-648994415acc"
      },
      "execution_count": 57,
      "outputs": [
        {
          "output_type": "stream",
          "name": "stdout",
          "text": [
            "800\n",
            "1800\n"
          ]
        }
      ]
    },
    {
      "cell_type": "code",
      "source": [
        "#15 . Create a class Product with attributes name, price, and quantity. Implement a method total_price() that calculates the total price of the product\n",
        "class Product:\n",
        "  def __init__(self,price,quantity):\n",
        "    self.price = price\n",
        "    self.quantity = quantity\n",
        "\n",
        "  def total_price(self):\n",
        "    return self.price * self.quantity\n",
        "\n",
        "P = Product(10,2)\n",
        "print(P.total_price())"
      ],
      "metadata": {
        "colab": {
          "base_uri": "https://localhost:8080/"
        },
        "id": "9mtt1MZN8ZQ9",
        "outputId": "68f2391b-1554-4b67-987b-55ae3dd88269"
      },
      "execution_count": 58,
      "outputs": [
        {
          "output_type": "stream",
          "name": "stdout",
          "text": [
            "20\n"
          ]
        }
      ]
    },
    {
      "cell_type": "code",
      "source": [
        "#16  Create a class Animal with an abstract method sound(). Create two derived classes Cow and Sheep that implement the sound() method\n",
        "from abc import ABC, abstractmethod\n",
        "\n",
        "# Base class Animal with an abstract method sound()\n",
        "class Animal(ABC):\n",
        "    @abstractmethod\n",
        "    def sound(self):\n",
        "        pass\n",
        "\n",
        "# Derived class Cow that implements the sound() method\n",
        "class Cow(Animal):\n",
        "    def sound(self):\n",
        "        return \"Moo\"\n",
        "\n",
        "# Derived class Sheep that implements the sound() method\n",
        "class Sheep(Animal):\n",
        "    def sound(self):\n",
        "        return \"Baa\"\n",
        "\n",
        "# Example usage:\n",
        "cow = Cow()\n",
        "sheep = Sheep()\n",
        "\n",
        "# Displaying the sound made by each animal\n",
        "print(f\"Cow makes sound: {cow.sound()}\")\n",
        "print(f\"Sheep makes sound: {sheep.sound()}\")\n"
      ],
      "metadata": {
        "colab": {
          "base_uri": "https://localhost:8080/"
        },
        "id": "Pr-6SQe18aAl",
        "outputId": "af4d9224-5409-4034-867c-61b9f7d3b559"
      },
      "execution_count": 59,
      "outputs": [
        {
          "output_type": "stream",
          "name": "stdout",
          "text": [
            "Cow makes sound: Moo\n",
            "Sheep makes sound: Baa\n"
          ]
        }
      ]
    },
    {
      "cell_type": "code",
      "source": [
        "#17  Create a class Book with attributes title, author, and year_published. Add a method get_book_info() that returns a formatted string with the book's details\n",
        "class book:\n",
        "  def __init__(self,title,author,year_published):\n",
        "    self.title = title\n",
        "    self.author = author\n",
        "    self.year_published = year_published\n",
        "\n",
        "  def get_book_info(self):\n",
        "    print(f\"Title name is {self.title}, the author name is {self.author} and it was published in the year {self.year_published}\")\n",
        "\n",
        "bk = book(\"The Alchemist\",\"Paulo Coelho\",1988)\n",
        "bk.get_book_info()"
      ],
      "metadata": {
        "colab": {
          "base_uri": "https://localhost:8080/"
        },
        "id": "OGJh97RJ8ap4",
        "outputId": "6e4d46aa-3137-4b5a-f344-04e09838c4df"
      },
      "execution_count": 61,
      "outputs": [
        {
          "output_type": "stream",
          "name": "stdout",
          "text": [
            "Title name is The Alchemist, the author name is Paulo Coelho and it was published in the year 1988\n"
          ]
        }
      ]
    },
    {
      "cell_type": "code",
      "source": [
        "#18 Create a class House with attributes address and price. Create a derived class Mansion that adds an attribute number_of_rooms\n",
        "# Base class House\n",
        "class House:\n",
        "    def __init__(self, address, price):\n",
        "        # Initialize the address and price attributes\n",
        "        self.address = address\n",
        "        self.price = price\n",
        "\n",
        "    def display_info(self):\n",
        "        # Method to display house information\n",
        "        return f\"Address: {self.address}, Price: ${self.price}\"\n",
        "\n",
        "# Derived class Mansion\n",
        "class Mansion(House):\n",
        "    def __init__(self, address, price, number_of_rooms):\n",
        "        # Call the constructor of the base class House\n",
        "        super().__init__(address, price)\n",
        "        self.number_of_rooms = number_of_rooms\n",
        "\n",
        "    def display_info(self):\n",
        "        # Override the display_info method to include number of rooms\n",
        "        base_info = super().display_info()  # Get the base house info\n",
        "        return f\"{base_info}, Number of Rooms: {self.number_of_rooms}\"\n",
        "\n",
        "# Example usage:\n",
        "house = House(\"123 Main St\", 300000)\n",
        "mansion = Mansion(\"456 Luxury Rd\", 1500000, 10)\n",
        "\n",
        "# Display information for both house and mansion\n",
        "print(house.display_info())  # Output: Address: 123 Main St, Price: $300000\n",
        "print(mansion.display_info())  # Output: Address: 456 Luxury Rd, Price: $1500000, Number of Rooms: 10\n"
      ],
      "metadata": {
        "colab": {
          "base_uri": "https://localhost:8080/"
        },
        "id": "vhPdpn1G8bao",
        "outputId": "fb8e1957-9eee-4c93-9d1a-7f1612ae3602"
      },
      "execution_count": 62,
      "outputs": [
        {
          "output_type": "stream",
          "name": "stdout",
          "text": [
            "Address: 123 Main St, Price: $300000\n",
            "Address: 456 Luxury Rd, Price: $1500000, Number of Rooms: 10\n"
          ]
        }
      ]
    }
  ]
}